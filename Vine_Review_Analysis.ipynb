{
  "nbformat": 4,
  "nbformat_minor": 0,
  "metadata": {
    "colab": {
      "provenance": []
    },
    "kernelspec": {
      "name": "python3",
      "display_name": "Python 3"
    },
    "language_info": {
      "name": "python"
    }
  },
  "cells": [
    {
      "cell_type": "code",
      "execution_count": null,
      "metadata": {
        "id": "jtePK85jUU69"
      },
      "outputs": [],
      "source": []
    },
    {
      "cell_type": "code",
      "metadata": {
        "id": "V58rxea0HqSa",
        "colab": {
          "base_uri": "https://localhost:8080/"
        },
        "outputId": "74a8f12e-eabb-4213-f870-2b3e16abe6ea"
      },
      "source": [
        "import os\n",
        "# Find the latest version of spark 3.0 from http://www.apache.org/dist/spark/ and enter as the spark version\n",
        "# For example:\n",
        "# spark_version = 'spark-3.0.3'\n",
        "spark_version = 'spark-3.2.2'\n",
        "os.environ['SPARK_VERSION']=spark_version\n",
        "\n",
        "# Install Spark and Java\n",
        "!apt-get update\n",
        "!apt-get install openjdk-11-jdk-headless -qq > /dev/null\n",
        "!wget -q http://www.apache.org/dist/spark/$SPARK_VERSION/$SPARK_VERSION-bin-hadoop2.7.tgz\n",
        "!tar xf $SPARK_VERSION-bin-hadoop2.7.tgz\n",
        "!pip install -q findspark\n",
        "\n",
        "# Set Environment Variables\n",
        "import os\n",
        "os.environ[\"JAVA_HOME\"] = \"/usr/lib/jvm/java-11-openjdk-amd64\"\n",
        "os.environ[\"SPARK_HOME\"] = f\"/content/{spark_version}-bin-hadoop2.7\"\n",
        "\n",
        "# Start a SparkSession\n",
        "import findspark\n",
        "findspark.init()"
      ],
      "execution_count": 1,
      "outputs": [
        {
          "output_type": "stream",
          "name": "stdout",
          "text": [
            "Get:1 http://security.ubuntu.com/ubuntu bionic-security InRelease [88.7 kB]\n",
            "Hit:2 http://archive.ubuntu.com/ubuntu bionic InRelease\n",
            "Get:3 https://cloud.r-project.org/bin/linux/ubuntu bionic-cran40/ InRelease [3,626 B]\n",
            "Get:4 http://archive.ubuntu.com/ubuntu bionic-updates InRelease [88.7 kB]\n",
            "Hit:5 http://ppa.launchpad.net/c2d4u.team/c2d4u4.0+/ubuntu bionic InRelease\n",
            "Get:6 http://archive.ubuntu.com/ubuntu bionic-backports InRelease [83.3 kB]\n",
            "Hit:7 http://ppa.launchpad.net/cran/libgit2/ubuntu bionic InRelease\n",
            "Ign:8 https://developer.download.nvidia.com/compute/machine-learning/repos/ubuntu1804/x86_64  InRelease\n",
            "Get:9 https://developer.download.nvidia.com/compute/cuda/repos/ubuntu1804/x86_64  InRelease [1,581 B]\n",
            "Hit:10 https://developer.download.nvidia.com/compute/machine-learning/repos/ubuntu1804/x86_64  Release\n",
            "Hit:11 http://ppa.launchpad.net/deadsnakes/ppa/ubuntu bionic InRelease\n",
            "Hit:12 http://ppa.launchpad.net/graphics-drivers/ppa/ubuntu bionic InRelease\n",
            "Get:13 http://security.ubuntu.com/ubuntu bionic-security/universe amd64 Packages [1,546 kB]\n",
            "Get:14 http://security.ubuntu.com/ubuntu bionic-security/main amd64 Packages [2,992 kB]\n",
            "Get:15 http://archive.ubuntu.com/ubuntu bionic-updates/main amd64 Packages [3,424 kB]\n",
            "Get:16 http://archive.ubuntu.com/ubuntu bionic-updates/universe amd64 Packages [2,324 kB]\n",
            "Get:17 https://developer.download.nvidia.com/compute/cuda/repos/ubuntu1804/x86_64  Packages [950 kB]\n",
            "Fetched 11.5 MB in 7s (1,752 kB/s)\n",
            "Reading package lists... Done\n"
          ]
        }
      ]
    },
    {
      "cell_type": "code",
      "source": [],
      "metadata": {
        "id": "xgNWiGwxUl8U"
      },
      "execution_count": null,
      "outputs": []
    },
    {
      "cell_type": "code",
      "metadata": {
        "id": "MMqDAjVS0KN9"
      },
      "source": [
        "from pyspark.sql import SparkSession\n",
        "spark = SparkSession.builder.appName(\"M16-Amazon-Challenge\").config(\"spark.driver.extraClassPath\",\"/content/postgresql-42.2.16.jar\").getOrCreate()"
      ],
      "execution_count": 2,
      "outputs": []
    },
    {
      "cell_type": "code",
      "metadata": {
        "id": "CtCmBhQJY-9Z",
        "colab": {
          "base_uri": "https://localhost:8080/"
        },
        "outputId": "78a573db-5d6a-4d8f-bf59-2351842bf6dc"
      },
      "source": [
        "from pyspark import SparkFiles\n",
        "url = \"https://s3.amazonaws.com/amazon-reviews-pds/tsv/amazon_reviews_us_Shoes_v1_00.tsv.gz\"\n",
        "spark.sparkContext.addFile(url)\n",
        "df = spark.read.option(\"encoding\", \"UTF-8\").csv(SparkFiles.get(\"\"), sep=\"\\t\", header=True, inferSchema=True)\n",
        "df.show()"
      ],
      "execution_count": 3,
      "outputs": [
        {
          "output_type": "stream",
          "name": "stdout",
          "text": [
            "+-----------+-----------+--------------+----------+--------------+--------------------+----------------+-----------+-------------+-----------+----+-----------------+--------------------+--------------------+-----------+\n",
            "|marketplace|customer_id|     review_id|product_id|product_parent|       product_title|product_category|star_rating|helpful_votes|total_votes|vine|verified_purchase|     review_headline|         review_body|review_date|\n",
            "+-----------+-----------+--------------+----------+--------------+--------------------+----------------+-----------+-------------+-----------+----+-----------------+--------------------+--------------------+-----------+\n",
            "|         US|   18069663|R3P2HIOQCIN5ZU|B000XB31C0|     265024781|Minnetonka Men's ...|           Shoes|          1|            0|          0|   N|                Y|                   .|Do not buy: reall...| 2015-08-31|\n",
            "|         US|   16251825|R12VVR0WH5Q24V|B00CFYZH5W|     259035853|Teva Men's Pajaro...|           Shoes|          5|            0|          0|   N|                Y|     super flip flop|provides great cu...| 2015-08-31|\n",
            "|         US|   20381037| RNCCKB6TV5EEF|B00S8JNN3Q|     666066660|Anne Klein Perfec...|           Shoes|          4|            0|          0|   N|                Y| Great clutch purse!|It's perfect if y...| 2015-08-31|\n",
            "|         US|     108364|R2NZXYIVCGB13W|B00XFBPOQG|     448483263|adidas Men's 10K ...|           Shoes|          5|            0|          6|   N|                Y|              Badass|  Getting what u see| 2015-08-31|\n",
            "|         US|   45449350|R2EQ1TG9IT3OEQ|B00SW64Y9W|       7853171|OverBling Sneaker...|           Shoes|          3|            0|          0|   N|                Y|         Three Stars|               small| 2015-08-31|\n",
            "|         US|   19324665|R1WXA9JSC2H1U1|B011F9E6LI|      14311457|MESSI 15.3 FG/AG ...|           Shoes|          5|            1|          1|   N|                Y|          Five Stars|My 13 year old so...| 2015-08-31|\n",
            "|         US|   50073594|R12ENYLFGGNWRV|B00HAUP1OI|     264821602|Hoka One One Men'...|           Shoes|          5|            1|          1|   N|                Y|Finally, some cus...|Ok, I have been s...| 2015-08-31|\n",
            "|         US|   21706057|R2R07E5PNXEUO5|B00L1RKOKW|     767118055|Olukai Nohea Mesh...|           Shoes|          4|            0|          0|   N|                Y|good deal, but ha...|I went a full siz...| 2015-08-31|\n",
            "|         US|   13708216|R27BA52AKWMWN3|B005WA9MSE|     813856438|Carolina Mens 6\" ...|           Shoes|          5|            0|          0|   N|                Y|... would have to...|I would have to s...| 2015-08-31|\n",
            "|         US|   40542649| RLF8DOID2KD5O|B00BEYQI5C|     661491213|Alegria Women's S...|           Shoes|          3|            0|          0|   N|                Y|           Too small|The size is misle...| 2015-08-31|\n",
            "|         US|   13409446|R369CEXHXHC6NQ|B00EYAFTCQ|     332158165|Naturalizer Women...|           Shoes|          5|            0|          0|   N|                Y|          Five Stars|These shoes are v...| 2015-08-31|\n",
            "|         US|    9451727|R171PPIJXFONVI|B00I0QHY32|      49243908|Forever Link Wome...|           Shoes|          5|            0|          0|   N|                Y|          Five Stars|I love these sand...| 2015-08-31|\n",
            "|         US|     193731|R2JDNM8F2P06FU|B010FZZKYA|     161497902|Versace Collectio...|           Shoes|          4|            1|          1|   N|                Y|          Four Stars|Good quality shoe...| 2015-08-31|\n",
            "|         US|   34798634|R2W977FO4M97XT|B00V8B30K2|     759958795|Twisted Girl's Ch...|           Shoes|          5|            0|          1|   N|                Y|Good shoes, comfo...|My daughter reall...| 2015-08-31|\n",
            "|         US|   37235551|R3AM24QPLI28UY|B00LAVB1TC|     910150896|Travel Smart Hand...|           Shoes|          2|            1|          2|   N|                Y|           Two Stars|         It's okay .| 2015-08-31|\n",
            "|         US|   27081399| REDVXSFYVNT5T|B003C1P8B0|     762792587|Saucony Originals...|           Shoes|          5|            0|          0|   N|                Y|    Love these shoes|Love these shoes!...| 2015-08-31|\n",
            "|         US|     120678|R14AIIK7D6ENDZ|B000W3UL7W|     123724495|Dr. Marten's Wome...|           Shoes|          5|            0|          0|   N|                Y|          Five Stars|                Good| 2015-08-31|\n",
            "|         US|   22272389|R3B1NURKMCVAL1|B00LX65PQO|     848850234|Skechers Performa...|           Shoes|          3|            2|          2|   N|                Y|         Three Stars|I like the go wal...| 2015-08-31|\n",
            "|         US|   19584241|R14Q1GZGV10IMX|B00BEE7N3I|     211637196|Hi-Tec Kid's Nepa...|           Shoes|          4|            0|          0|   N|                Y|          Four Stars|Kids love them fo...| 2015-08-31|\n",
            "|         US|   12334573| R9BHBB06QD6TM|B008NCHMBW|     138572112|Foot Sox Original...|           Shoes|          1|            2|          2|   N|                Y|Tissue paper is t...|Tissue paper is t...| 2015-08-31|\n",
            "+-----------+-----------+--------------+----------+--------------+--------------------+----------------+-----------+-------------+-----------+----+-----------------+--------------------+--------------------+-----------+\n",
            "only showing top 20 rows\n",
            "\n"
          ]
        }
      ]
    },
    {
      "cell_type": "code",
      "metadata": {
        "id": "lzMmkdKmY--D",
        "colab": {
          "base_uri": "https://localhost:8080/"
        },
        "outputId": "f2f5be1d-f6cb-40af-e751-6e9c81d1dc8c"
      },
      "source": [
        "# Create the vine_table. DataFrame\n",
        "vine_df = df.select(df['review_id'],df['star_rating'],df['helpful_votes'],df['total_votes'],df['vine'],df['verified_purchase'])\n",
        "vine_df.show()"
      ],
      "execution_count": 4,
      "outputs": [
        {
          "output_type": "stream",
          "name": "stdout",
          "text": [
            "+--------------+-----------+-------------+-----------+----+-----------------+\n",
            "|     review_id|star_rating|helpful_votes|total_votes|vine|verified_purchase|\n",
            "+--------------+-----------+-------------+-----------+----+-----------------+\n",
            "|R3P2HIOQCIN5ZU|          1|            0|          0|   N|                Y|\n",
            "|R12VVR0WH5Q24V|          5|            0|          0|   N|                Y|\n",
            "| RNCCKB6TV5EEF|          4|            0|          0|   N|                Y|\n",
            "|R2NZXYIVCGB13W|          5|            0|          6|   N|                Y|\n",
            "|R2EQ1TG9IT3OEQ|          3|            0|          0|   N|                Y|\n",
            "|R1WXA9JSC2H1U1|          5|            1|          1|   N|                Y|\n",
            "|R12ENYLFGGNWRV|          5|            1|          1|   N|                Y|\n",
            "|R2R07E5PNXEUO5|          4|            0|          0|   N|                Y|\n",
            "|R27BA52AKWMWN3|          5|            0|          0|   N|                Y|\n",
            "| RLF8DOID2KD5O|          3|            0|          0|   N|                Y|\n",
            "|R369CEXHXHC6NQ|          5|            0|          0|   N|                Y|\n",
            "|R171PPIJXFONVI|          5|            0|          0|   N|                Y|\n",
            "|R2JDNM8F2P06FU|          4|            1|          1|   N|                Y|\n",
            "|R2W977FO4M97XT|          5|            0|          1|   N|                Y|\n",
            "|R3AM24QPLI28UY|          2|            1|          2|   N|                Y|\n",
            "| REDVXSFYVNT5T|          5|            0|          0|   N|                Y|\n",
            "|R14AIIK7D6ENDZ|          5|            0|          0|   N|                Y|\n",
            "|R3B1NURKMCVAL1|          3|            2|          2|   N|                Y|\n",
            "|R14Q1GZGV10IMX|          4|            0|          0|   N|                Y|\n",
            "| R9BHBB06QD6TM|          1|            2|          2|   N|                Y|\n",
            "+--------------+-----------+-------------+-----------+----+-----------------+\n",
            "only showing top 20 rows\n",
            "\n"
          ]
        }
      ]
    },
    {
      "cell_type": "code",
      "source": [
        "helpful_reviews_df = vine_df.filter(df.total_votes >= 20)\n",
        "helpful_reviews_df.show()"
      ],
      "metadata": {
        "colab": {
          "base_uri": "https://localhost:8080/"
        },
        "id": "SAMdUiJvU-Zn",
        "outputId": "0fb7ebb2-09d7-41e8-d078-41e98d40239c"
      },
      "execution_count": 6,
      "outputs": [
        {
          "output_type": "stream",
          "name": "stdout",
          "text": [
            "+--------------+-----------+-------------+-----------+----+-----------------+\n",
            "|     review_id|star_rating|helpful_votes|total_votes|vine|verified_purchase|\n",
            "+--------------+-----------+-------------+-----------+----+-----------------+\n",
            "|R37F42INKX7L9K|          5|           45|         49|   N|                Y|\n",
            "|R2EHKYNEP8WVSR|          5|           25|         25|   N|                Y|\n",
            "| RXOS7BHID0UHL|          5|           16|         27|   N|                N|\n",
            "|R33HHGFPB403GM|          5|           19|         21|   N|                Y|\n",
            "| RY9O9XNLP464N|          2|           19|         22|   N|                Y|\n",
            "|R2VP11C28JAEZF|          5|           30|         30|   N|                Y|\n",
            "|R1TXGR1HA2M3P3|          5|           28|         29|   N|                Y|\n",
            "| R6OD85TMEMHQQ|          5|           28|         28|   N|                Y|\n",
            "|R1G4PAJXP3FTN7|          2|           43|         51|   N|                Y|\n",
            "|R2P2S8UGUMCOLX|          5|           21|         22|   N|                Y|\n",
            "| RBTQKXGJ9RP7C|          1|           33|         33|   N|                Y|\n",
            "|R342L93CXGDZO5|          2|           73|         76|   N|                Y|\n",
            "|R31Z97KFD4HMNF|          3|           23|         26|   N|                Y|\n",
            "|R2NDB7EQLYK87A|          5|           44|         46|   N|                Y|\n",
            "|R1C0W0OSBCVXC2|          1|           45|         46|   N|                Y|\n",
            "|R154Q41ID7FTFC|          5|           24|         26|   N|                Y|\n",
            "|R3GFX9ZNZ0T3TA|          1|           35|         35|   N|                Y|\n",
            "|R2H8MH0N2IZKMY|          5|           22|         23|   N|                Y|\n",
            "|R1MYE8WQ3812L8|          5|           17|         20|   N|                Y|\n",
            "| RYSL8MU2858GB|          5|           71|         73|   N|                Y|\n",
            "+--------------+-----------+-------------+-----------+----+-----------------+\n",
            "only showing top 20 rows\n",
            "\n"
          ]
        }
      ]
    },
    {
      "cell_type": "code",
      "source": [
        "most_helpful_reviews = helpful_reviews_df.filter(df.helpful_votes/df.total_votes >= .5)\n",
        "most_helpful_reviews.show()"
      ],
      "metadata": {
        "colab": {
          "base_uri": "https://localhost:8080/"
        },
        "id": "yOIHWZkfV5bT",
        "outputId": "51f606c0-f9c0-40e6-98e5-5a9591a16552"
      },
      "execution_count": 7,
      "outputs": [
        {
          "output_type": "stream",
          "name": "stdout",
          "text": [
            "+--------------+-----------+-------------+-----------+----+-----------------+\n",
            "|     review_id|star_rating|helpful_votes|total_votes|vine|verified_purchase|\n",
            "+--------------+-----------+-------------+-----------+----+-----------------+\n",
            "|R37F42INKX7L9K|          5|           45|         49|   N|                Y|\n",
            "|R2EHKYNEP8WVSR|          5|           25|         25|   N|                Y|\n",
            "| RXOS7BHID0UHL|          5|           16|         27|   N|                N|\n",
            "|R33HHGFPB403GM|          5|           19|         21|   N|                Y|\n",
            "| RY9O9XNLP464N|          2|           19|         22|   N|                Y|\n",
            "|R2VP11C28JAEZF|          5|           30|         30|   N|                Y|\n",
            "|R1TXGR1HA2M3P3|          5|           28|         29|   N|                Y|\n",
            "| R6OD85TMEMHQQ|          5|           28|         28|   N|                Y|\n",
            "|R1G4PAJXP3FTN7|          2|           43|         51|   N|                Y|\n",
            "|R2P2S8UGUMCOLX|          5|           21|         22|   N|                Y|\n",
            "| RBTQKXGJ9RP7C|          1|           33|         33|   N|                Y|\n",
            "|R342L93CXGDZO5|          2|           73|         76|   N|                Y|\n",
            "|R31Z97KFD4HMNF|          3|           23|         26|   N|                Y|\n",
            "|R2NDB7EQLYK87A|          5|           44|         46|   N|                Y|\n",
            "|R1C0W0OSBCVXC2|          1|           45|         46|   N|                Y|\n",
            "|R154Q41ID7FTFC|          5|           24|         26|   N|                Y|\n",
            "|R3GFX9ZNZ0T3TA|          1|           35|         35|   N|                Y|\n",
            "|R2H8MH0N2IZKMY|          5|           22|         23|   N|                Y|\n",
            "|R1MYE8WQ3812L8|          5|           17|         20|   N|                Y|\n",
            "| RYSL8MU2858GB|          5|           71|         73|   N|                Y|\n",
            "+--------------+-----------+-------------+-----------+----+-----------------+\n",
            "only showing top 20 rows\n",
            "\n"
          ]
        }
      ]
    },
    {
      "cell_type": "code",
      "source": [
        "vine_program_paid = most_helpful_reviews.filter(most_helpful_reviews.vine =='Y')\n",
        "vine_program_paid.show()"
      ],
      "metadata": {
        "colab": {
          "base_uri": "https://localhost:8080/"
        },
        "id": "Byfj-pwMWSIS",
        "outputId": "aa4f788f-a10d-4d1c-b95c-62bd6823df0f"
      },
      "execution_count": 10,
      "outputs": [
        {
          "output_type": "stream",
          "name": "stdout",
          "text": [
            "+--------------+-----------+-------------+-----------+----+-----------------+\n",
            "|     review_id|star_rating|helpful_votes|total_votes|vine|verified_purchase|\n",
            "+--------------+-----------+-------------+-----------+----+-----------------+\n",
            "|R2N45ZKRRZS856|          5|           21|         22|   Y|                N|\n",
            "| R5OMLMK13A8NS|          5|           34|         38|   Y|                N|\n",
            "|R2MPEQ4SPTEQNS|          4|          180|        184|   Y|                N|\n",
            "| RIR0D3KJ0CQ31|          4|           21|         21|   Y|                N|\n",
            "|R1SPWJDHUWWC5E|          5|           88|         98|   Y|                N|\n",
            "|R1X6M5XA3FT98W|          5|           24|         26|   Y|                N|\n",
            "|R37VCW6HA0Z72T|          5|           27|         28|   Y|                N|\n",
            "|R2XRYNV2SY3ZKL|          5|           53|         56|   Y|                N|\n",
            "|R1Y93KWKAX1P5N|          2|           26|         31|   Y|                N|\n",
            "|R2QVTDYYLTP8SL|          5|           21|         24|   Y|                N|\n",
            "|R3KOK2SH39BZU1|          3|           94|         96|   Y|                N|\n",
            "|R2VOM73EHLPXJW|          4|           35|         38|   Y|                N|\n",
            "|R3SEZS7BZEC69Y|          5|           16|         20|   Y|                N|\n",
            "|R1MJ5J272V19O6|          4|           49|         51|   Y|                N|\n",
            "|R3A7BQX1JDKOM5|          4|           20|         20|   Y|                N|\n",
            "|R1307JMPUEQXOW|          5|           31|         35|   Y|                N|\n",
            "| RXV0SDXE5B15T|          2|           39|         42|   Y|                N|\n",
            "| RBMDYE7LUH9FI|          5|           26|         32|   Y|                N|\n",
            "|R1N4W961QV59BV|          5|           25|         34|   Y|                N|\n",
            "|R11XKHFS4KQS3Z|          4|          205|        211|   Y|                N|\n",
            "+--------------+-----------+-------------+-----------+----+-----------------+\n",
            "only showing top 20 rows\n",
            "\n"
          ]
        }
      ]
    },
    {
      "cell_type": "code",
      "source": [
        "vine_program_unpaid = most_helpful_reviews.filter(most_helpful_reviews.vine =='N')\n",
        "vine_program_unpaid.show()"
      ],
      "metadata": {
        "colab": {
          "base_uri": "https://localhost:8080/"
        },
        "outputId": "d2b4d8fd-b7f4-4142-d36e-16cb0eff75c2",
        "id": "u7gAcepOXL9n"
      },
      "execution_count": 11,
      "outputs": [
        {
          "output_type": "stream",
          "name": "stdout",
          "text": [
            "+--------------+-----------+-------------+-----------+----+-----------------+\n",
            "|     review_id|star_rating|helpful_votes|total_votes|vine|verified_purchase|\n",
            "+--------------+-----------+-------------+-----------+----+-----------------+\n",
            "|R37F42INKX7L9K|          5|           45|         49|   N|                Y|\n",
            "|R2EHKYNEP8WVSR|          5|           25|         25|   N|                Y|\n",
            "| RXOS7BHID0UHL|          5|           16|         27|   N|                N|\n",
            "|R33HHGFPB403GM|          5|           19|         21|   N|                Y|\n",
            "| RY9O9XNLP464N|          2|           19|         22|   N|                Y|\n",
            "|R2VP11C28JAEZF|          5|           30|         30|   N|                Y|\n",
            "|R1TXGR1HA2M3P3|          5|           28|         29|   N|                Y|\n",
            "| R6OD85TMEMHQQ|          5|           28|         28|   N|                Y|\n",
            "|R1G4PAJXP3FTN7|          2|           43|         51|   N|                Y|\n",
            "|R2P2S8UGUMCOLX|          5|           21|         22|   N|                Y|\n",
            "| RBTQKXGJ9RP7C|          1|           33|         33|   N|                Y|\n",
            "|R342L93CXGDZO5|          2|           73|         76|   N|                Y|\n",
            "|R31Z97KFD4HMNF|          3|           23|         26|   N|                Y|\n",
            "|R2NDB7EQLYK87A|          5|           44|         46|   N|                Y|\n",
            "|R1C0W0OSBCVXC2|          1|           45|         46|   N|                Y|\n",
            "|R154Q41ID7FTFC|          5|           24|         26|   N|                Y|\n",
            "|R3GFX9ZNZ0T3TA|          1|           35|         35|   N|                Y|\n",
            "|R2H8MH0N2IZKMY|          5|           22|         23|   N|                Y|\n",
            "|R1MYE8WQ3812L8|          5|           17|         20|   N|                Y|\n",
            "| RYSL8MU2858GB|          5|           71|         73|   N|                Y|\n",
            "+--------------+-----------+-------------+-----------+----+-----------------+\n",
            "only showing top 20 rows\n",
            "\n"
          ]
        }
      ]
    },
    {
      "cell_type": "code",
      "source": [
        "## total number of paid reviews\n",
        "num_reviews_paid = vine_program_paid.count()\n",
        "print(f'Total number of paid reviews: {num_reviews_paid}')"
      ],
      "metadata": {
        "colab": {
          "base_uri": "https://localhost:8080/"
        },
        "id": "KPz4qLgUXYJj",
        "outputId": "a42e39b1-6c95-4d0e-fbf9-4d7e821dea69"
      },
      "execution_count": 27,
      "outputs": [
        {
          "output_type": "stream",
          "name": "stdout",
          "text": [
            "Total number of paid reviews: 22\n"
          ]
        }
      ]
    },
    {
      "cell_type": "code",
      "source": [
        "##total number of unpaid reviews\n",
        "num_reviews_unpaid = vine_program_unpaid.count()\n",
        "print(f'Total number of unpaid reviews: {num_reviews_unpaid}')"
      ],
      "metadata": {
        "colab": {
          "base_uri": "https://localhost:8080/"
        },
        "id": "SBpzzIkdXlrP",
        "outputId": "d0a8c645-368e-4c2e-aefd-1115ff7240a1"
      },
      "execution_count": 28,
      "outputs": [
        {
          "output_type": "stream",
          "name": "stdout",
          "text": [
            "Total number of unpaid reviews: 26987\n"
          ]
        }
      ]
    },
    {
      "cell_type": "code",
      "source": [
        "## number of paid 5 star reviews\n",
        "paid_5_stars = vine_program_paid.filter(vine_program_paid.star_rating == '5')\n",
        "paid_5_stars.show()\n",
        "\n",
        "print(f'Total number of paid 5 star reviews: {paid_5_stars.count()}')"
      ],
      "metadata": {
        "colab": {
          "base_uri": "https://localhost:8080/"
        },
        "id": "ezHDbmukYx42",
        "outputId": "eb3f8cbb-480e-4b38-f04d-1e11dcf49165"
      },
      "execution_count": 31,
      "outputs": [
        {
          "output_type": "stream",
          "name": "stdout",
          "text": [
            "+--------------+-----------+-------------+-----------+----+-----------------+\n",
            "|     review_id|star_rating|helpful_votes|total_votes|vine|verified_purchase|\n",
            "+--------------+-----------+-------------+-----------+----+-----------------+\n",
            "|R2N45ZKRRZS856|          5|           21|         22|   Y|                N|\n",
            "| R5OMLMK13A8NS|          5|           34|         38|   Y|                N|\n",
            "|R1SPWJDHUWWC5E|          5|           88|         98|   Y|                N|\n",
            "|R1X6M5XA3FT98W|          5|           24|         26|   Y|                N|\n",
            "|R37VCW6HA0Z72T|          5|           27|         28|   Y|                N|\n",
            "|R2XRYNV2SY3ZKL|          5|           53|         56|   Y|                N|\n",
            "|R2QVTDYYLTP8SL|          5|           21|         24|   Y|                N|\n",
            "|R3SEZS7BZEC69Y|          5|           16|         20|   Y|                N|\n",
            "|R1307JMPUEQXOW|          5|           31|         35|   Y|                N|\n",
            "| RBMDYE7LUH9FI|          5|           26|         32|   Y|                N|\n",
            "|R1N4W961QV59BV|          5|           25|         34|   Y|                N|\n",
            "|R2AT1A0VUSY955|          5|           22|         24|   Y|                N|\n",
            "| RMFBF4KEBW9RK|          5|           37|         43|   Y|                N|\n",
            "+--------------+-----------+-------------+-----------+----+-----------------+\n",
            "\n",
            "Total number of paid 5 star reviews: 13\n"
          ]
        }
      ]
    },
    {
      "cell_type": "code",
      "source": [
        "## number of unpaid 5 star reviews\n",
        "unpaid_5_stars = vine_program_unpaid.filter(vine_program_unpaid.star_rating == '5')\n",
        "unpaid_5_stars.show()\n",
        "\n",
        "print(f'Total number of unpaid 5 star reviews: {unpaid_5_stars.count()}')"
      ],
      "metadata": {
        "colab": {
          "base_uri": "https://localhost:8080/"
        },
        "outputId": "3ed162a7-dcc0-421a-8fc4-28b18cbfa263",
        "id": "TulXxb3yZbPb"
      },
      "execution_count": 32,
      "outputs": [
        {
          "output_type": "stream",
          "name": "stdout",
          "text": [
            "+--------------+-----------+-------------+-----------+----+-----------------+\n",
            "|     review_id|star_rating|helpful_votes|total_votes|vine|verified_purchase|\n",
            "+--------------+-----------+-------------+-----------+----+-----------------+\n",
            "|R37F42INKX7L9K|          5|           45|         49|   N|                Y|\n",
            "|R2EHKYNEP8WVSR|          5|           25|         25|   N|                Y|\n",
            "| RXOS7BHID0UHL|          5|           16|         27|   N|                N|\n",
            "|R33HHGFPB403GM|          5|           19|         21|   N|                Y|\n",
            "|R2VP11C28JAEZF|          5|           30|         30|   N|                Y|\n",
            "|R1TXGR1HA2M3P3|          5|           28|         29|   N|                Y|\n",
            "| R6OD85TMEMHQQ|          5|           28|         28|   N|                Y|\n",
            "|R2P2S8UGUMCOLX|          5|           21|         22|   N|                Y|\n",
            "|R2NDB7EQLYK87A|          5|           44|         46|   N|                Y|\n",
            "|R154Q41ID7FTFC|          5|           24|         26|   N|                Y|\n",
            "|R2H8MH0N2IZKMY|          5|           22|         23|   N|                Y|\n",
            "|R1MYE8WQ3812L8|          5|           17|         20|   N|                Y|\n",
            "| RYSL8MU2858GB|          5|           71|         73|   N|                Y|\n",
            "|R15ANY3PXYBDIG|          5|           22|         23|   N|                N|\n",
            "|R1SFMA1XAAUIVG|          5|           37|         38|   N|                Y|\n",
            "| RQN5511LDI736|          5|           53|         59|   N|                Y|\n",
            "|R24CNRZ8PBOV6R|          5|           41|         45|   N|                Y|\n",
            "|R3SCQZGVCXXA8V|          5|           68|         75|   N|                Y|\n",
            "|R10JQ538S0XCEU|          5|           59|         67|   N|                Y|\n",
            "|R3ES7IGV9K151G|          5|           25|         26|   N|                Y|\n",
            "+--------------+-----------+-------------+-----------+----+-----------------+\n",
            "only showing top 20 rows\n",
            "\n",
            "Total number of unpaid 5 star reviews: 14475\n"
          ]
        }
      ]
    },
    {
      "cell_type": "code",
      "source": [
        "total_paid_5_star_reviews = paid_5_stars.count() \n",
        "\n",
        "total_unpaid_5_star_reviews = unpaid_5_stars.count()\n",
        "\n",
        "total_paid_5_star_reviews\n",
        "total_unpaid_5_star_reviews"
      ],
      "metadata": {
        "colab": {
          "base_uri": "https://localhost:8080/"
        },
        "id": "v8VGhaYiZkfH",
        "outputId": "8fa70346-3053-462d-fc10-a5ca889b83ea"
      },
      "execution_count": 37,
      "outputs": [
        {
          "output_type": "execute_result",
          "data": {
            "text/plain": [
              "14475"
            ]
          },
          "metadata": {},
          "execution_count": 37
        }
      ]
    },
    {
      "cell_type": "code",
      "source": [
        "percentage_5star_reviews_paid = total_paid_5_star_reviews/num_reviews_paid\n",
        "\n",
        "print(f'Percentage of 5 Star reviews that were paid for: %{round(percentage_5star_reviews_paid*100,2)}')"
      ],
      "metadata": {
        "colab": {
          "base_uri": "https://localhost:8080/"
        },
        "id": "LPsdg1WdayYU",
        "outputId": "59db73e3-668f-4751-976d-8a92d2a068fe"
      },
      "execution_count": 46,
      "outputs": [
        {
          "output_type": "stream",
          "name": "stdout",
          "text": [
            "Percentage of 5 Star reviews that were paid for: %59.09\n"
          ]
        }
      ]
    },
    {
      "cell_type": "code",
      "source": [
        "percentage_5star_reviews_unpaid = total_unpaid_5_star_reviews/num_reviews_unpaid\n",
        "print(f'Percentage of 5 Star reviews that were not paid for: %{round(percentage_5star_reviews_unpaid*100,2)}')"
      ],
      "metadata": {
        "colab": {
          "base_uri": "https://localhost:8080/"
        },
        "id": "pDZZ-3zmd1oA",
        "outputId": "8eecdc50-7ee0-4ab8-809e-79e3ebcdfe8a"
      },
      "execution_count": 45,
      "outputs": [
        {
          "output_type": "stream",
          "name": "stdout",
          "text": [
            "Percentage of 5 Star reviews that were not paid for: %53.64\n"
          ]
        }
      ]
    },
    {
      "cell_type": "code",
      "source": [],
      "metadata": {
        "id": "uHKvx3gid3BT"
      },
      "execution_count": null,
      "outputs": []
    }
  ]
}